{
 "cells": [
  {
   "cell_type": "code",
   "execution_count": 1,
   "id": "00702f6a",
   "metadata": {},
   "outputs": [],
   "source": [
    "import tensorflow as tf\n",
    "from tensorflow.keras.preprocessing.image import ImageDataGenerator\n",
    "from tensorflow.keras.applications import ResNet152V2\n",
    "from tensorflow.keras.layers import Dense, GlobalAveragePooling2D\n",
    "from tensorflow.keras.models import Model\n",
    "from tensorflow.keras.optimizers import Adam\n"
   ]
  },
  {
   "cell_type": "code",
   "execution_count": 2,
   "id": "9ac4f505",
   "metadata": {},
   "outputs": [
    {
     "name": "stdout",
     "output_type": "stream",
     "text": [
      "Found 381 images belonging to 4 classes.\n",
      "Found 94 images belonging to 4 classes.\n"
     ]
    }
   ],
   "source": [
    "train_datagen = ImageDataGenerator(\n",
    "    rescale=1.0 / 255.0,\n",
    "    rotation_range=30,\n",
    "    width_shift_range=0.2,\n",
    "    height_shift_range=0.2,\n",
    "    shear_range=0.2,\n",
    "    zoom_range=0.2,\n",
    "    horizontal_flip=True,\n",
    "    validation_split=0.2  # Split data into 80% training and 20% validation\n",
    ")\n",
    "\n",
    "train_generator = train_datagen.flow_from_directory(\n",
    "    'eyedataset',\n",
    "    target_size=(224, 224),  # Adjust to the input size expected by ResNet-150\n",
    "    batch_size=32,\n",
    "    class_mode='categorical',  # For multi-class classification\n",
    "    subset='training'\n",
    ")\n",
    "\n",
    "validation_generator = train_datagen.flow_from_directory(\n",
    "    'eyedataset',\n",
    "    target_size=(224, 224),\n",
    "    batch_size=32,\n",
    "    class_mode='categorical',\n",
    "    subset='validation'\n",
    ")\n"
   ]
  },
  {
   "cell_type": "code",
   "execution_count": 3,
   "id": "f697d2d9",
   "metadata": {},
   "outputs": [],
   "source": [
    "base_model = ResNet152V2(weights='imagenet', include_top=False, input_shape=(224, 224, 3))"
   ]
  },
  {
   "cell_type": "code",
   "execution_count": 4,
   "id": "79ee8630",
   "metadata": {},
   "outputs": [],
   "source": [
    "x = base_model.output\n",
    "x = GlobalAveragePooling2D()(x)\n",
    "x = Dense(1024, activation='relu')(x)\n",
    "predictions = Dense(4, activation='softmax')(x)  # Four classes\n",
    "\n",
    "model = Model(inputs=base_model.input, outputs=predictions)\n"
   ]
  },
  {
   "cell_type": "code",
   "execution_count": 5,
   "id": "192292c0",
   "metadata": {},
   "outputs": [
    {
     "name": "stderr",
     "output_type": "stream",
     "text": [
      "WARNING:absl:`lr` is deprecated in Keras optimizer, please use `learning_rate` or use the legacy optimizer, e.g.,tf.keras.optimizers.legacy.Adam.\n"
     ]
    }
   ],
   "source": [
    "model.compile(optimizer=Adam(lr=0.001), loss='categorical_crossentropy', metrics=['accuracy'])\n"
   ]
  },
  {
   "cell_type": "code",
   "execution_count": 6,
   "id": "9ff515dd",
   "metadata": {},
   "outputs": [
    {
     "name": "stdout",
     "output_type": "stream",
     "text": [
      "Epoch 1/4\n",
      "12/12 [==============================] - 545s 43s/step - loss: 1.3469 - accuracy: 0.4987 - val_loss: 2963550208.0000 - val_accuracy: 0.1489\n",
      "Epoch 2/4\n",
      "12/12 [==============================] - 500s 42s/step - loss: 1.2145 - accuracy: 0.5039 - val_loss: 4417345536.0000 - val_accuracy: 0.1489\n",
      "Epoch 3/4\n",
      "12/12 [==============================] - 491s 42s/step - loss: 1.1010 - accuracy: 0.5118 - val_loss: 166771456.0000 - val_accuracy: 0.3404\n",
      "Epoch 4/4\n",
      "12/12 [==============================] - 519s 43s/step - loss: 1.0370 - accuracy: 0.5459 - val_loss: 5966577.0000 - val_accuracy: 0.1489\n"
     ]
    }
   ],
   "source": [
    "history = model.fit(train_generator, epochs=4, validation_data=validation_generator)\n"
   ]
  },
  {
   "cell_type": "code",
   "execution_count": 8,
   "id": "c53202f1",
   "metadata": {},
   "outputs": [
    {
     "name": "stdout",
     "output_type": "stream",
     "text": [
      "Found 475 images belonging to 4 classes.\n",
      "15/15 [==============================] - 99s 7s/step - loss: 5861107.0000 - accuracy: 0.1495\n"
     ]
    }
   ],
   "source": [
    "test_datagen = ImageDataGenerator(rescale=1.0 / 255.0)\n",
    "\n",
    "test_generator = test_datagen.flow_from_directory(\n",
    "    'eyedataset',\n",
    "    target_size=(224, 224),\n",
    "    batch_size=32,\n",
    "    class_mode='categorical'\n",
    ")\n",
    "\n",
    "test_loss, test_accuracy = model.evaluate(test_generator)\n"
   ]
  },
  {
   "cell_type": "code",
   "execution_count": 15,
   "id": "1e2a6021",
   "metadata": {},
   "outputs": [],
   "source": [
    "import tensorflow_model_optimization as tfmot\n",
    "\n",
    "# Annotate the model for quantization-aware training\n",
    "quant_annotate_model = tfmot.quantization.keras.quantize_annotate_model(model)\n"
   ]
  },
  {
   "cell_type": "code",
   "execution_count": 16,
   "id": "391a1220",
   "metadata": {},
   "outputs": [
    {
     "name": "stderr",
     "output_type": "stream",
     "text": [
      "WARNING:absl:`lr` is deprecated in Keras optimizer, please use `learning_rate` or use the legacy optimizer, e.g.,tf.keras.optimizers.legacy.Adam.\n"
     ]
    }
   ],
   "source": [
    "# Compile the quantization-aware model\n",
    "quant_annotate_model.compile(optimizer=Adam(lr=0.001), loss='categorical_crossentropy', metrics=['accuracy'])\n"
   ]
  },
  {
   "cell_type": "code",
   "execution_count": 17,
   "id": "186e6753",
   "metadata": {},
   "outputs": [
    {
     "name": "stdout",
     "output_type": "stream",
     "text": [
      "Epoch 1/4\n",
      "12/12 [==============================] - 531s 41s/step - loss: 1.3619 - accuracy: 0.4856 - val_loss: 11541002910229856256.0000 - val_accuracy: 0.1489\n",
      "Epoch 2/4\n",
      "12/12 [==============================] - 514s 43s/step - loss: 1.1921 - accuracy: 0.5118 - val_loss: 191427946513170432.0000 - val_accuracy: 0.2128\n",
      "Epoch 3/4\n",
      "12/12 [==============================] - 515s 43s/step - loss: 1.1454 - accuracy: 0.5249 - val_loss: 618721705984.0000 - val_accuracy: 0.2128\n",
      "Epoch 4/4\n",
      "12/12 [==============================] - 524s 44s/step - loss: 1.0599 - accuracy: 0.5827 - val_loss: 145660016.0000 - val_accuracy: 0.1489\n"
     ]
    }
   ],
   "source": [
    "# Train the quantization-aware model\n",
    "history = quant_annotate_model.fit(train_generator, epochs=4, validation_data=validation_generator)\n"
   ]
  },
  {
   "cell_type": "code",
   "execution_count": null,
   "id": "c35bbcd8",
   "metadata": {},
   "outputs": [],
   "source": []
  }
 ],
 "metadata": {
  "kernelspec": {
   "display_name": "Python 3",
   "language": "python",
   "name": "python3"
  },
  "language_info": {
   "codemirror_mode": {
    "name": "ipython",
    "version": 3
   },
   "file_extension": ".py",
   "mimetype": "text/x-python",
   "name": "python",
   "nbconvert_exporter": "python",
   "pygments_lexer": "ipython3",
   "version": "3.8.8"
  }
 },
 "nbformat": 4,
 "nbformat_minor": 5
}
