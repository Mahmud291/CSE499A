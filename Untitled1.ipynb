{
  "nbformat": 4,
  "nbformat_minor": 0,
  "metadata": {
    "colab": {
      "provenance": []
    },
    "kernelspec": {
      "name": "python3",
      "display_name": "Python 3"
    },
    "language_info": {
      "name": "python"
    }
  },
  "cells": [
    {
      "cell_type": "code",
      "execution_count": 5,
      "metadata": {
        "colab": {
          "base_uri": "https://localhost:8080/"
        },
        "id": "WY4EX4_b-MAs",
        "outputId": "96d1fd02-9740-446f-eda0-ff0ef317481c"
      },
      "outputs": [
        {
          "output_type": "stream",
          "name": "stdout",
          "text": [
            "\n",
            "...COMPLETED IMPORT...\n"
          ]
        }
      ],
      "source": [
        "import os\n",
        "os.environ[\"TF_GPU_ALLOCATOR\"]=\"cuda_malloc_async\"\n",
        "\n",
        "import tensorflow as tf\n",
        "\n",
        "import pandas as pd\n",
        "pd.options.mode.chained_assignment = None;\n",
        "import numpy as np\n",
        "\n",
        "from sklearn.metrics import classification_report, confusion_matrix, roc_auc_score\n",
        "from sklearn.manifold import TSNE\n",
        "\n",
        "from tensorflow.keras.applications import MobileNetV3Small\n",
        "\n",
        "\n",
        "from collections import Counter\n",
        "\n",
        "import random\n",
        "import re\n",
        "\n",
        "import matplotlib as mpl\n",
        "from matplotlib.colors import ListedColormap\n",
        "from matplotlib.patches import Rectangle\n",
        "import matplotlib.patches as patches\n",
        "import matplotlib.pyplot as plt\n",
        "import seaborn as sns\n",
        "import cv2\n",
        "\n",
        "def seed_it_all(seed=42):\n",
        "    os.environ['PYTHONHASHSEED'] = str(seed)\n",
        "    random.seed(seed)\n",
        "    np.random.seed(seed)\n",
        "    tf.random.set_seed(seed)\n",
        "\n",
        "seed_it_all()\n",
        "\n",
        "print(f\"\\n...COMPLETED IMPORT...\")"
      ]
    }
  ]
}