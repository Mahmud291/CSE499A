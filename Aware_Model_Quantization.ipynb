{
 "cells": [
  {
   "cell_type": "code",
   "execution_count": 1,
   "id": "00702f6a",
   "metadata": {},
   "outputs": [],
   "source": [
    "import tensorflow as tf\n",
    "from tensorflow.keras.preprocessing.image import ImageDataGenerator\n",
    "from tensorflow.keras.applications import ResNet152V2\n",
    "from tensorflow.keras.layers import Dense, GlobalAveragePooling2D\n",
    "from tensorflow.keras.models import Model\n",
    "from tensorflow.keras.optimizers import Adam\n",
    "import time\n",
    "\n"
   ]
  },
  {
   "cell_type": "code",
   "execution_count": 2,
   "id": "9ac4f505",
   "metadata": {},
   "outputs": [
    {
     "name": "stdout",
     "output_type": "stream",
     "text": [
      "Found 358 images belonging to 4 classes.\n",
      "Found 86 images belonging to 4 classes.\n"
     ]
    }
   ],
   "source": [
    "train_datagen = ImageDataGenerator(\n",
    "    rescale=1.0 / 255.0,\n",
    "    rotation_range=30,\n",
    "    width_shift_range=0.2,\n",
    "    height_shift_range=0.2,\n",
    "    shear_range=0.2,\n",
    "    zoom_range=0.2,\n",
    "    horizontal_flip=True,\n",
    "    validation_split=0.2  # Split data into 80% training and 20% validation\n",
    ")\n",
    "\n",
    "train_generator = train_datagen.flow_from_directory(\n",
    "    'eyedataset',\n",
    "    target_size=(224, 224),  # Adjust to the input size expected by ResNet-150\n",
    "    batch_size=32,\n",
    "    class_mode='categorical',  # For multi-class classification\n",
    "    subset='training'\n",
    ")\n",
    "\n",
    "validation_generator = train_datagen.flow_from_directory(\n",
    "    'eyedataset',\n",
    "    target_size=(224, 224),\n",
    "    batch_size=32,\n",
    "    class_mode='categorical',\n",
    "    subset='validation'\n",
    ")\n"
   ]
  },
  {
   "cell_type": "code",
   "execution_count": 3,
   "id": "f697d2d9",
   "metadata": {},
   "outputs": [],
   "source": [
    "base_model = ResNet152V2(weights='imagenet', include_top=False, input_shape=(224, 224, 3))"
   ]
  },
  {
   "cell_type": "code",
   "execution_count": 4,
   "id": "79ee8630",
   "metadata": {},
   "outputs": [],
   "source": [
    "x = base_model.output\n",
    "x = GlobalAveragePooling2D()(x)\n",
    "x = Dense(1024, activation='relu')(x)\n",
    "predictions = Dense(4, activation='softmax')(x)  # Four classes\n",
    "\n",
    "model = Model(inputs=base_model.input, outputs=predictions)\n"
   ]
  },
  {
   "cell_type": "code",
   "execution_count": 5,
   "id": "192292c0",
   "metadata": {},
   "outputs": [
    {
     "name": "stderr",
     "output_type": "stream",
     "text": [
      "WARNING:absl:`lr` is deprecated in Keras optimizer, please use `learning_rate` or use the legacy optimizer, e.g.,tf.keras.optimizers.legacy.Adam.\n"
     ]
    }
   ],
   "source": [
    "model.compile(optimizer=Adam(lr=0.001), loss='categorical_crossentropy', metrics=['accuracy'])\n"
   ]
  },
  {
   "cell_type": "code",
   "execution_count": 6,
   "id": "9ff515dd",
   "metadata": {},
   "outputs": [
    {
     "name": "stdout",
     "output_type": "stream",
     "text": [
      "12/12 [==============================] - 425s 32s/step - loss: 1.4363 - accuracy: 0.4190 - val_loss: 25.6425 - val_accuracy: 0.3721\n",
      "Epoch 1/12 - Time: 426.74s - Accuracy: 0.4190\n",
      "12/12 [==============================] - 425s 35s/step - loss: 1.0135 - accuracy: 0.5615 - val_loss: 123.1002 - val_accuracy: 0.2326\n",
      "Epoch 2/12 - Time: 426.55s - Accuracy: 0.5615\n",
      "12/12 [==============================] - 478s 40s/step - loss: 0.9167 - accuracy: 0.6257 - val_loss: 7584.8960 - val_accuracy: 0.2326\n",
      "Epoch 3/12 - Time: 479.99s - Accuracy: 0.6257\n",
      "12/12 [==============================] - 445s 37s/step - loss: 0.7467 - accuracy: 0.7039 - val_loss: 558.3105 - val_accuracy: 0.1628\n",
      "Epoch 4/12 - Time: 447.12s - Accuracy: 0.7039\n",
      "12/12 [==============================] - 437s 36s/step - loss: 0.7815 - accuracy: 0.6760 - val_loss: 5926.8389 - val_accuracy: 0.2326\n",
      "Epoch 5/12 - Time: 438.03s - Accuracy: 0.6760\n",
      "12/12 [==============================] - 451s 38s/step - loss: 0.8100 - accuracy: 0.6872 - val_loss: 17.9378 - val_accuracy: 0.3953\n",
      "Epoch 6/12 - Time: 453.03s - Accuracy: 0.6872\n",
      "12/12 [==============================] - 445s 37s/step - loss: 0.7600 - accuracy: 0.6816 - val_loss: 32.8337 - val_accuracy: 0.2442\n",
      "Epoch 7/12 - Time: 446.61s - Accuracy: 0.6816\n",
      "12/12 [==============================] - 432s 36s/step - loss: 0.6236 - accuracy: 0.7514 - val_loss: 2.3948 - val_accuracy: 0.4419\n",
      "Epoch 8/12 - Time: 434.35s - Accuracy: 0.7514\n",
      "12/12 [==============================] - 434s 36s/step - loss: 0.6570 - accuracy: 0.7402 - val_loss: 2.7537 - val_accuracy: 0.4767\n",
      "Epoch 9/12 - Time: 436.16s - Accuracy: 0.7402\n",
      "12/12 [==============================] - 437s 36s/step - loss: 0.7872 - accuracy: 0.6872 - val_loss: 2.8219 - val_accuracy: 0.2791\n",
      "Epoch 10/12 - Time: 438.07s - Accuracy: 0.6872\n",
      "12/12 [==============================] - 432s 36s/step - loss: 0.8378 - accuracy: 0.6732 - val_loss: 55.6813 - val_accuracy: 0.2442\n",
      "Epoch 11/12 - Time: 433.92s - Accuracy: 0.6732\n",
      "12/12 [==============================] - 446s 37s/step - loss: 0.8002 - accuracy: 0.6732 - val_loss: 31.9493 - val_accuracy: 0.3953\n",
      "Epoch 12/12 - Time: 447.21s - Accuracy: 0.6732\n",
      "Average Time: 442.32s\n",
      "Accuracy: 0.6567\n"
     ]
    }
   ],
   "source": [
    "# Initialize variables to keep track of time and accuracy\n",
    "total_time = 0\n",
    "total_accuracy = 0\n",
    "epochs=12\n",
    "# Training loop\n",
    "for epoch in range(epochs):\n",
    "    start_time = time.time()  # Record the start time for this epoch\n",
    "    \n",
    "    # Train the model for one epoch\n",
    "    history = model.fit(train_generator, epochs=1, validation_data=validation_generator)\n",
    "    \n",
    "    end_time = time.time()  # Record the end time for this epoch\n",
    "    epoch_time = end_time - start_time  # Calculate epoch time\n",
    "    \n",
    "    # Update total time and accuracy\n",
    "    total_time += epoch_time\n",
    "    total_accuracy += history.history['accuracy'][0]  # Assuming 'accuracy' is in history\n",
    "    \n",
    "    # Print epoch statistics\n",
    "    print(f\"Epoch {epoch+1}/{epochs} - Time: {epoch_time:.2f}s - Accuracy: {history.history['accuracy'][0]:.4f}\")\n",
    "\n",
    "# Calculate and display average time and accuracy\n",
    "average_time = total_time / epochs\n",
    "average_accuracy = total_accuracy / epochs\n",
    "print(f\"Average Time: {average_time:.2f}s\")\n",
    "print(f\"Accuracy: {average_accuracy:.4f}\")\n"
   ]
  },
  {
   "cell_type": "code",
   "execution_count": 7,
   "id": "c53202f1",
   "metadata": {},
   "outputs": [
    {
     "name": "stdout",
     "output_type": "stream",
     "text": [
      "Found 444 images belonging to 4 classes.\n",
      "14/14 [==============================] - 89s 6s/step - loss: 53.4120 - accuracy: 0.3626\n"
     ]
    }
   ],
   "source": [
    "test_datagen = ImageDataGenerator(rescale=1.0 / 255.0)\n",
    "\n",
    "test_generator = test_datagen.flow_from_directory(\n",
    "    'eyedataset',\n",
    "    target_size=(224, 224),\n",
    "    batch_size=32,\n",
    "    class_mode='categorical'\n",
    ")\n",
    "\n",
    "test_loss, test_accuracy = model.evaluate(test_generator)\n"
   ]
  },
  {
   "cell_type": "code",
   "execution_count": 8,
   "id": "1e2a6021",
   "metadata": {},
   "outputs": [],
   "source": [
    "import tensorflow_model_optimization as tfmot\n",
    "\n",
    "# Annotate the model for quantization-aware training\n",
    "quant_annotate_model = tfmot.quantization.keras.quantize_annotate_model(model)\n"
   ]
  },
  {
   "cell_type": "code",
   "execution_count": 9,
   "id": "391a1220",
   "metadata": {},
   "outputs": [
    {
     "name": "stderr",
     "output_type": "stream",
     "text": [
      "WARNING:absl:`lr` is deprecated in Keras optimizer, please use `learning_rate` or use the legacy optimizer, e.g.,tf.keras.optimizers.legacy.Adam.\n"
     ]
    }
   ],
   "source": [
    "# Compile the quantization-aware model\n",
    "quant_annotate_model.compile(optimizer=Adam(lr=0.001), loss='categorical_crossentropy', metrics=['accuracy'])\n"
   ]
  },
  {
   "cell_type": "code",
   "execution_count": 10,
   "id": "186e6753",
   "metadata": {},
   "outputs": [
    {
     "name": "stdout",
     "output_type": "stream",
     "text": [
      "12/12 [==============================] - 488s 36s/step - loss: 0.8748 - accuracy: 0.6592 - val_loss: 182.8258 - val_accuracy: 0.2326\n",
      "Epoch 1/12 - Time: 489.35s - Accuracy: 0.6592\n",
      "12/12 [==============================] - 445s 37s/step - loss: 0.7693 - accuracy: 0.6788 - val_loss: 243.2834 - val_accuracy: 0.2558\n",
      "Epoch 2/12 - Time: 446.40s - Accuracy: 0.6788\n",
      "12/12 [==============================] - 439s 37s/step - loss: 0.5750 - accuracy: 0.7654 - val_loss: 691.7939 - val_accuracy: 0.2326\n",
      "Epoch 3/12 - Time: 440.94s - Accuracy: 0.7654\n",
      "12/12 [==============================] - 439s 37s/step - loss: 0.6406 - accuracy: 0.7458 - val_loss: 1905.6101 - val_accuracy: 0.2326\n",
      "Epoch 4/12 - Time: 441.28s - Accuracy: 0.7458\n",
      "12/12 [==============================] - 446s 37s/step - loss: 0.6088 - accuracy: 0.7514 - val_loss: 598.9529 - val_accuracy: 0.2442\n",
      "Epoch 5/12 - Time: 447.28s - Accuracy: 0.7514\n",
      "12/12 [==============================] - 446s 37s/step - loss: 0.5663 - accuracy: 0.7682 - val_loss: 730.4643 - val_accuracy: 0.2326\n",
      "Epoch 6/12 - Time: 448.68s - Accuracy: 0.7682\n",
      "12/12 [==============================] - 446s 37s/step - loss: 0.7016 - accuracy: 0.7151 - val_loss: 54.7695 - val_accuracy: 0.2674\n",
      "Epoch 7/12 - Time: 447.84s - Accuracy: 0.7151\n",
      "12/12 [==============================] - 442s 37s/step - loss: 0.5831 - accuracy: 0.7933 - val_loss: 352.6696 - val_accuracy: 0.2326\n",
      "Epoch 8/12 - Time: 444.62s - Accuracy: 0.7933\n",
      "12/12 [==============================] - 445s 40s/step - loss: 0.7102 - accuracy: 0.7095 - val_loss: 16.2713 - val_accuracy: 0.1628\n",
      "Epoch 9/12 - Time: 447.22s - Accuracy: 0.7095\n",
      "12/12 [==============================] - 452s 37s/step - loss: 0.6163 - accuracy: 0.7682 - val_loss: 6.1304 - val_accuracy: 0.2093\n",
      "Epoch 10/12 - Time: 452.39s - Accuracy: 0.7682\n",
      "12/12 [==============================] - 446s 37s/step - loss: 0.6579 - accuracy: 0.7598 - val_loss: 3.4921 - val_accuracy: 0.3721\n",
      "Epoch 11/12 - Time: 447.93s - Accuracy: 0.7598\n",
      "12/12 [==============================] - 464s 38s/step - loss: 0.5011 - accuracy: 0.8184 - val_loss: 8.3162 - val_accuracy: 0.3256\n",
      "Epoch 12/12 - Time: 466.29s - Accuracy: 0.8184\n",
      "Average Time: 451.69s\n",
      "Accuracy: 0.7444\n"
     ]
    }
   ],
   "source": [
    "# Train the quantization-aware model\n",
    "\n",
    "# Initialize variables to keep track of time and accuracy\n",
    "total_time = 0\n",
    "total_accuracy = 0\n",
    "epochs=12\n",
    "# Training loop\n",
    "for epoch in range(epochs):\n",
    "    start_time = time.time()  # Record the start time for this epoch\n",
    "    \n",
    "    # Train the model for one epoch\n",
    "    history = quant_annotate_model.fit(train_generator, epochs=1, validation_data=validation_generator)\n",
    "    \n",
    "    end_time = time.time()  # Record the end time for this epoch\n",
    "    epoch_time = end_time - start_time  # Calculate epoch time\n",
    "    \n",
    "    # Update total time and accuracy\n",
    "    total_time += epoch_time\n",
    "    total_accuracy += history.history['accuracy'][0]  # Assuming 'accuracy' is in history\n",
    "    \n",
    "    # Print epoch statistics\n",
    "    print(f\"Epoch {epoch+1}/{epochs} - Time: {epoch_time:.2f}s - Accuracy: {history.history['accuracy'][0]:.4f}\")\n",
    "\n",
    "# Calculate and display average time and accuracy\n",
    "average_time = total_time / epochs\n",
    "average_accuracy = total_accuracy / epochs\n",
    "print(f\"Average Time: {average_time:.2f}s\")\n",
    "print(f\"Accuracy: {average_accuracy:.4f}\")\n"
   ]
  },
  {
   "cell_type": "code",
   "execution_count": null,
   "id": "c35bbcd8",
   "metadata": {},
   "outputs": [],
   "source": []
  }
 ],
 "metadata": {
  "kernelspec": {
   "display_name": "Python 3",
   "language": "python",
   "name": "python3"
  },
  "language_info": {
   "codemirror_mode": {
    "name": "ipython",
    "version": 3
   },
   "file_extension": ".py",
   "mimetype": "text/x-python",
   "name": "python",
   "nbconvert_exporter": "python",
   "pygments_lexer": "ipython3",
   "version": "3.8.8"
  }
 },
 "nbformat": 4,
 "nbformat_minor": 5
}
