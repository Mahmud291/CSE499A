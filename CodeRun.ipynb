{
  "nbformat": 4,
  "nbformat_minor": 0,
  "metadata": {
    "colab": {
      "provenance": []
    },
    "kernelspec": {
      "name": "python3",
      "display_name": "Python 3"
    },
    "language_info": {
      "name": "python"
    }
  },
  "cells": [
    {
      "cell_type": "code",
      "execution_count": null,
      "metadata": {
        "id": "Rhr7gUJRcw2v"
      },
      "outputs": [],
      "source": [
        "# Code to read csv file into colaboratory:\n",
        "!pip install -U -q PyDrive\n",
        "from pydrive.auth import GoogleAuth\n",
        "from pydrive.drive import GoogleDrive\n",
        "from google.colab import auth\n",
        "from oauth2client.client import GoogleCredentials\n"
      ]
    },
    {
      "cell_type": "code",
      "source": [
        "auth.authenticate_user()\n",
        "gauth = GoogleAuth()\n",
        "gauth.credentials = GoogleCredentials.get_application_default()\n",
        "drive = GoogleDrive(gauth)"
      ],
      "metadata": {
        "id": "PRn30LV2d4nV"
      },
      "execution_count": null,
      "outputs": []
    },
    {
      "cell_type": "code",
      "source": [
        "downloaded = drive.CreateFile({'id':'1Fx4kzaprnfiya-S5aYZYAxv-X0T5Vo-f'}) \n",
        "downloaded.GetContentFile('full_df.csv') "
      ],
      "metadata": {
        "id": "Zjflr4pQeWwq"
      },
      "execution_count": null,
      "outputs": []
    },
    {
      "cell_type": "code",
      "source": [
        "import pandas as pd\n",
        "xyz = pd.read_csv('full_df.csv') \n",
        "print(xyz.head(1))"
      ],
      "metadata": {
        "colab": {
          "base_uri": "https://localhost:8080/"
        },
        "id": "n7bnFbowgJqB",
        "outputId": "432203de-0d7e-406b-d75c-3cb6b6f2c05b"
      },
      "execution_count": null,
      "outputs": [
        {
          "output_type": "stream",
          "name": "stdout",
          "text": [
            "   ID  Patient Age Patient Sex Left-Fundus Right-Fundus  \\\n",
            "0   0           69      Female  0_left.jpg  0_right.jpg   \n",
            "\n",
            "  Left-Diagnostic Keywords Right-Diagnostic Keywords  N  D  G  C  A  H  M  O  \\\n",
            "0                 cataract             normal fundus  0  0  0  1  0  0  0  0   \n",
            "\n",
            "                                            filepath labels  \\\n",
            "0  ../input/ocular-disease-recognition-odir5k/ODI...  ['N']   \n",
            "\n",
            "                     target     filename  \n",
            "0  [1, 0, 0, 0, 0, 0, 0, 0]  0_right.jpg  \n"
          ]
        }
      ]
    },
    {
      "cell_type": "code",
      "source": [
        "downloaded = drive.CreateFile({'id':'1Fx4kzaprnfiya-S5aYZYAxv-X0T5Vo-f'}) \n",
        "downloaded.GetContentFile('full_df.csv') "
      ],
      "metadata": {
        "id": "htCi5pBlrcaU"
      },
      "execution_count": null,
      "outputs": []
    },
    {
      "cell_type": "code",
      "source": [
        "import pandas as pd\n",
        "xyz = pd.read_csv('full_df.csv') \n",
        "print(xyz.head(2))"
      ],
      "metadata": {
        "colab": {
          "base_uri": "https://localhost:8080/"
        },
        "id": "osBIxXMXrmmi",
        "outputId": "7c489729-97e0-4311-95da-20c504d8084c"
      },
      "execution_count": null,
      "outputs": [
        {
          "output_type": "stream",
          "name": "stdout",
          "text": [
            "   ID  Patient Age Patient Sex Left-Fundus Right-Fundus  \\\n",
            "0   0           69      Female  0_left.jpg  0_right.jpg   \n",
            "1   1           57        Male  1_left.jpg  1_right.jpg   \n",
            "\n",
            "  Left-Diagnostic Keywords Right-Diagnostic Keywords  N  D  G  C  A  H  M  O  \\\n",
            "0                 cataract             normal fundus  0  0  0  1  0  0  0  0   \n",
            "1            normal fundus             normal fundus  1  0  0  0  0  0  0  0   \n",
            "\n",
            "                                            filepath labels  \\\n",
            "0  ../input/ocular-disease-recognition-odir5k/ODI...  ['N']   \n",
            "1  ../input/ocular-disease-recognition-odir5k/ODI...  ['N']   \n",
            "\n",
            "                     target     filename  \n",
            "0  [1, 0, 0, 0, 0, 0, 0, 0]  0_right.jpg  \n",
            "1  [1, 0, 0, 0, 0, 0, 0, 0]  1_right.jpg  \n"
          ]
        }
      ]
    },
    {
      "cell_type": "code",
      "source": [
        "import pandas as pd\n",
        "xyz = pd.read_csv('full_df.csv') \n",
        "print(xyz.head(25))"
      ],
      "metadata": {
        "colab": {
          "base_uri": "https://localhost:8080/"
        },
        "id": "G-jy8a8Ir0QB",
        "outputId": "af7d1988-23a2-4b0e-b18d-072a23bde814"
      },
      "execution_count": null,
      "outputs": [
        {
          "output_type": "stream",
          "name": "stdout",
          "text": [
            "    ID  Patient Age Patient Sex  Left-Fundus  Right-Fundus  \\\n",
            "0    0           69      Female   0_left.jpg   0_right.jpg   \n",
            "1    1           57        Male   1_left.jpg   1_right.jpg   \n",
            "2    2           42        Male   2_left.jpg   2_right.jpg   \n",
            "3    4           53        Male   4_left.jpg   4_right.jpg   \n",
            "4    5           50      Female   5_left.jpg   5_right.jpg   \n",
            "5    6           60        Male   6_left.jpg   6_right.jpg   \n",
            "6    7           60      Female   7_left.jpg   7_right.jpg   \n",
            "7    8           59        Male   8_left.jpg   8_right.jpg   \n",
            "8    9           54        Male   9_left.jpg   9_right.jpg   \n",
            "9   10           70        Male  10_left.jpg  10_right.jpg   \n",
            "10  11           60      Female  11_left.jpg  11_right.jpg   \n",
            "11  13           60      Female  13_left.jpg  13_right.jpg   \n",
            "12  14           55        Male  14_left.jpg  14_right.jpg   \n",
            "13  15           50        Male  15_left.jpg  15_right.jpg   \n",
            "14  16           54      Female  16_left.jpg  16_right.jpg   \n",
            "15  17           57        Male  17_left.jpg  17_right.jpg   \n",
            "16  18           58        Male  18_left.jpg  18_right.jpg   \n",
            "17  19           45        Male  19_left.jpg  19_right.jpg   \n",
            "18  21           76      Female  21_left.jpg  21_right.jpg   \n",
            "19  23           47        Male  23_left.jpg  23_right.jpg   \n",
            "20  24           75      Female  24_left.jpg  24_right.jpg   \n",
            "21  26           63      Female  26_left.jpg  26_right.jpg   \n",
            "22  27           33        Male  27_left.jpg  27_right.jpg   \n",
            "23  28           63      Female  28_left.jpg  28_right.jpg   \n",
            "24  29           59        Male  29_left.jpg  29_right.jpg   \n",
            "\n",
            "                             Left-Diagnostic Keywords  \\\n",
            "0                                            cataract   \n",
            "1                                       normal fundus   \n",
            "2   laser spot，moderate non proliferative retinopathy   \n",
            "3                         macular epiretinal membrane   \n",
            "4              moderate non proliferative retinopathy   \n",
            "5                         macular epiretinal membrane   \n",
            "6                                              drusen   \n",
            "7                                       normal fundus   \n",
            "8                                       normal fundus   \n",
            "9                                 epiretinal membrane   \n",
            "10  moderate non proliferative retinopathy，hyperte...   \n",
            "11                                pathological myopia   \n",
            "12                                      normal fundus   \n",
            "13                                      normal fundus   \n",
            "14                                      normal fundus   \n",
            "15                                             drusen   \n",
            "16                                pathological myopia   \n",
            "17                  mild nonproliferative retinopathy   \n",
            "18                                epiretinal membrane   \n",
            "19                           hypertensive retinopathy   \n",
            "20                                      normal fundus   \n",
            "21             moderate non proliferative retinopathy   \n",
            "22                                      normal fundus   \n",
            "23                           hypertensive retinopathy   \n",
            "24                                epiretinal membrane   \n",
            "\n",
            "                            Right-Diagnostic Keywords  N  D  G  C  A  H  M  O  \\\n",
            "0                                       normal fundus  0  0  0  1  0  0  0  0   \n",
            "1                                       normal fundus  1  0  0  0  0  0  0  0   \n",
            "2              moderate non proliferative retinopathy  0  1  0  0  0  0  0  1   \n",
            "3                   mild nonproliferative retinopathy  0  1  0  0  0  0  0  1   \n",
            "4              moderate non proliferative retinopathy  0  1  0  0  0  0  0  0   \n",
            "5   moderate non proliferative retinopathy，epireti...  0  1  0  0  0  0  0  1   \n",
            "6                   mild nonproliferative retinopathy  0  1  0  0  0  0  0  1   \n",
            "7                                       normal fundus  1  0  0  0  0  0  0  0   \n",
            "8                               vitreous degeneration  0  0  0  0  0  0  0  1   \n",
            "9                                       normal fundus  0  0  0  0  0  0  0  1   \n",
            "10  moderate non proliferative retinopathy，hyperte...  0  1  0  0  0  1  0  0   \n",
            "11                                pathological myopia  0  0  0  0  0  0  1  0   \n",
            "12                        macular epiretinal membrane  0  0  0  0  0  0  0  1   \n",
            "13                            myelinated nerve fibers  0  0  0  0  0  0  0  1   \n",
            "14                                pathological myopia  0  0  0  0  0  0  1  0   \n",
            "15                                             drusen  0  0  0  0  0  0  0  1   \n",
            "16                                pathological myopia  0  0  0  0  0  0  1  0   \n",
            "17                  mild nonproliferative retinopathy  0  1  0  0  0  0  0  0   \n",
            "18                                epiretinal membrane  0  0  0  0  0  0  0  1   \n",
            "19                           hypertensive retinopathy  0  0  0  0  0  1  0  0   \n",
            "20                                           cataract  0  0  0  1  0  0  0  0   \n",
            "21  moderate non proliferative retinopathy，abnorma...  0  1  0  0  0  0  0  1   \n",
            "22  macular epiretinal membrane，moderate non proli...  0  1  0  0  0  0  0  1   \n",
            "23                           hypertensive retinopathy  0  0  0  0  0  1  0  0   \n",
            "24                                      normal fundus  0  0  0  0  0  0  0  1   \n",
            "\n",
            "                                             filepath labels  \\\n",
            "0   ../input/ocular-disease-recognition-odir5k/ODI...  ['N']   \n",
            "1   ../input/ocular-disease-recognition-odir5k/ODI...  ['N']   \n",
            "2   ../input/ocular-disease-recognition-odir5k/ODI...  ['D']   \n",
            "3   ../input/ocular-disease-recognition-odir5k/ODI...  ['D']   \n",
            "4   ../input/ocular-disease-recognition-odir5k/ODI...  ['D']   \n",
            "5   ../input/ocular-disease-recognition-odir5k/ODI...  ['D']   \n",
            "6   ../input/ocular-disease-recognition-odir5k/ODI...  ['D']   \n",
            "7   ../input/ocular-disease-recognition-odir5k/ODI...  ['N']   \n",
            "8   ../input/ocular-disease-recognition-odir5k/ODI...  ['O']   \n",
            "9   ../input/ocular-disease-recognition-odir5k/ODI...  ['N']   \n",
            "10  ../input/ocular-disease-recognition-odir5k/ODI...  ['D']   \n",
            "11  ../input/ocular-disease-recognition-odir5k/ODI...  ['M']   \n",
            "12  ../input/ocular-disease-recognition-odir5k/ODI...  ['O']   \n",
            "13  ../input/ocular-disease-recognition-odir5k/ODI...  ['O']   \n",
            "14  ../input/ocular-disease-recognition-odir5k/ODI...  ['M']   \n",
            "15  ../input/ocular-disease-recognition-odir5k/ODI...  ['O']   \n",
            "16  ../input/ocular-disease-recognition-odir5k/ODI...  ['M']   \n",
            "17  ../input/ocular-disease-recognition-odir5k/ODI...  ['D']   \n",
            "18  ../input/ocular-disease-recognition-odir5k/ODI...  ['O']   \n",
            "19  ../input/ocular-disease-recognition-odir5k/ODI...  ['H']   \n",
            "20  ../input/ocular-disease-recognition-odir5k/ODI...  ['C']   \n",
            "21  ../input/ocular-disease-recognition-odir5k/ODI...  ['D']   \n",
            "22  ../input/ocular-disease-recognition-odir5k/ODI...  ['O']   \n",
            "23  ../input/ocular-disease-recognition-odir5k/ODI...  ['H']   \n",
            "24  ../input/ocular-disease-recognition-odir5k/ODI...  ['N']   \n",
            "\n",
            "                      target      filename  \n",
            "0   [1, 0, 0, 0, 0, 0, 0, 0]   0_right.jpg  \n",
            "1   [1, 0, 0, 0, 0, 0, 0, 0]   1_right.jpg  \n",
            "2   [0, 1, 0, 0, 0, 0, 0, 0]   2_right.jpg  \n",
            "3   [0, 1, 0, 0, 0, 0, 0, 0]   4_right.jpg  \n",
            "4   [0, 1, 0, 0, 0, 0, 0, 0]   5_right.jpg  \n",
            "5   [0, 1, 0, 0, 0, 0, 0, 0]   6_right.jpg  \n",
            "6   [0, 1, 0, 0, 0, 0, 0, 0]   7_right.jpg  \n",
            "7   [1, 0, 0, 0, 0, 0, 0, 0]   8_right.jpg  \n",
            "8   [0, 0, 0, 0, 0, 0, 0, 1]   9_right.jpg  \n",
            "9   [1, 0, 0, 0, 0, 0, 0, 0]  10_right.jpg  \n",
            "10  [0, 1, 0, 0, 0, 0, 0, 0]  11_right.jpg  \n",
            "11  [0, 0, 0, 0, 0, 0, 1, 0]  13_right.jpg  \n",
            "12  [0, 0, 0, 0, 0, 0, 0, 1]  14_right.jpg  \n",
            "13  [0, 0, 0, 0, 0, 0, 0, 1]  15_right.jpg  \n",
            "14  [0, 0, 0, 0, 0, 0, 1, 0]  16_right.jpg  \n",
            "15  [0, 0, 0, 0, 0, 0, 0, 1]  17_right.jpg  \n",
            "16  [0, 0, 0, 0, 0, 0, 1, 0]  18_right.jpg  \n",
            "17  [0, 1, 0, 0, 0, 0, 0, 0]  19_right.jpg  \n",
            "18  [0, 0, 0, 0, 0, 0, 0, 1]  21_right.jpg  \n",
            "19  [0, 0, 0, 0, 0, 1, 0, 0]  23_right.jpg  \n",
            "20  [0, 0, 0, 1, 0, 0, 0, 0]  24_right.jpg  \n",
            "21  [0, 1, 0, 0, 0, 0, 0, 0]  26_right.jpg  \n",
            "22  [0, 0, 0, 0, 0, 0, 0, 1]  27_right.jpg  \n",
            "23  [0, 0, 0, 0, 0, 1, 0, 0]  28_right.jpg  \n",
            "24  [1, 0, 0, 0, 0, 0, 0, 0]  29_right.jpg  \n"
          ]
        }
      ]
    },
    {
      "cell_type": "code",
      "source": [
        "import pandas as pd\n",
        "xyz = pd.read_csv('full_df.csv') \n",
        "print(xyz.head(10000))"
      ],
      "metadata": {
        "colab": {
          "base_uri": "https://localhost:8080/"
        },
        "id": "J5ufiglE0XX0",
        "outputId": "06b1500d-cc2b-4498-9146-a04bea5fbe19"
      },
      "execution_count": 16,
      "outputs": [
        {
          "output_type": "stream",
          "name": "stdout",
          "text": [
            "        ID  Patient Age Patient Sex    Left-Fundus    Right-Fundus  \\\n",
            "0        0           69      Female     0_left.jpg     0_right.jpg   \n",
            "1        1           57        Male     1_left.jpg     1_right.jpg   \n",
            "2        2           42        Male     2_left.jpg     2_right.jpg   \n",
            "3        4           53        Male     4_left.jpg     4_right.jpg   \n",
            "4        5           50      Female     5_left.jpg     5_right.jpg   \n",
            "...    ...          ...         ...            ...             ...   \n",
            "6387  4686           63        Male  4686_left.jpg  4686_right.jpg   \n",
            "6388  4688           42        Male  4688_left.jpg  4688_right.jpg   \n",
            "6389  4689           54        Male  4689_left.jpg  4689_right.jpg   \n",
            "6390  4690           57        Male  4690_left.jpg  4690_right.jpg   \n",
            "6391  4784           58        Male  4784_left.jpg  4784_right.jpg   \n",
            "\n",
            "                               Left-Diagnostic Keywords  \\\n",
            "0                                              cataract   \n",
            "1                                         normal fundus   \n",
            "2     laser spot，moderate non proliferative retinopathy   \n",
            "3                           macular epiretinal membrane   \n",
            "4                moderate non proliferative retinopathy   \n",
            "...                                                 ...   \n",
            "6387                severe nonproliferative retinopathy   \n",
            "6388             moderate non proliferative retinopathy   \n",
            "6389                  mild nonproliferative retinopathy   \n",
            "6390                  mild nonproliferative retinopathy   \n",
            "6391  hypertensive retinopathy，age-related macular d...   \n",
            "\n",
            "                              Right-Diagnostic Keywords  N  D  G  C  A  H  M  \\\n",
            "0                                         normal fundus  0  0  0  1  0  0  0   \n",
            "1                                         normal fundus  1  0  0  0  0  0  0   \n",
            "2                moderate non proliferative retinopathy  0  1  0  0  0  0  0   \n",
            "3                     mild nonproliferative retinopathy  0  1  0  0  0  0  0   \n",
            "4                moderate non proliferative retinopathy  0  1  0  0  0  0  0   \n",
            "...                                                 ... .. .. .. .. .. .. ..   \n",
            "6387                 proliferative diabetic retinopathy  0  1  0  0  0  0  0   \n",
            "6388             moderate non proliferative retinopathy  0  1  0  0  0  0  0   \n",
            "6389                                      normal fundus  0  1  0  0  0  0  0   \n",
            "6390                  mild nonproliferative retinopathy  0  1  0  0  0  0  0   \n",
            "6391  hypertensive retinopathy，age-related macular d...  0  0  0  0  1  1  0   \n",
            "\n",
            "      O                                           filepath labels  \\\n",
            "0     0  ../input/ocular-disease-recognition-odir5k/ODI...  ['N']   \n",
            "1     0  ../input/ocular-disease-recognition-odir5k/ODI...  ['N']   \n",
            "2     1  ../input/ocular-disease-recognition-odir5k/ODI...  ['D']   \n",
            "3     1  ../input/ocular-disease-recognition-odir5k/ODI...  ['D']   \n",
            "4     0  ../input/ocular-disease-recognition-odir5k/ODI...  ['D']   \n",
            "...  ..                                                ...    ...   \n",
            "6387  0  ../input/ocular-disease-recognition-odir5k/ODI...  ['D']   \n",
            "6388  0  ../input/ocular-disease-recognition-odir5k/ODI...  ['D']   \n",
            "6389  0  ../input/ocular-disease-recognition-odir5k/ODI...  ['D']   \n",
            "6390  0  ../input/ocular-disease-recognition-odir5k/ODI...  ['D']   \n",
            "6391  0  ../input/ocular-disease-recognition-odir5k/ODI...  ['H']   \n",
            "\n",
            "                        target       filename  \n",
            "0     [1, 0, 0, 0, 0, 0, 0, 0]    0_right.jpg  \n",
            "1     [1, 0, 0, 0, 0, 0, 0, 0]    1_right.jpg  \n",
            "2     [0, 1, 0, 0, 0, 0, 0, 0]    2_right.jpg  \n",
            "3     [0, 1, 0, 0, 0, 0, 0, 0]    4_right.jpg  \n",
            "4     [0, 1, 0, 0, 0, 0, 0, 0]    5_right.jpg  \n",
            "...                        ...            ...  \n",
            "6387  [0, 1, 0, 0, 0, 0, 0, 0]  4686_left.jpg  \n",
            "6388  [0, 1, 0, 0, 0, 0, 0, 0]  4688_left.jpg  \n",
            "6389  [0, 1, 0, 0, 0, 0, 0, 0]  4689_left.jpg  \n",
            "6390  [0, 1, 0, 0, 0, 0, 0, 0]  4690_left.jpg  \n",
            "6391  [0, 0, 0, 0, 0, 1, 0, 0]  4784_left.jpg  \n",
            "\n",
            "[6392 rows x 19 columns]\n"
          ]
        }
      ]
    }
  ]
}